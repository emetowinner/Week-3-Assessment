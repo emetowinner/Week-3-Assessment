{
 "cells": [
  {
   "cell_type": "code",
   "execution_count": 6,
   "id": "7161ec1a",
   "metadata": {},
   "outputs": [],
   "source": [
    "import requests\n",
    "import json"
   ]
  },
  {
   "cell_type": "code",
   "execution_count": 7,
   "id": "1fbf8147",
   "metadata": {},
   "outputs": [],
   "source": [
    "User = {}"
   ]
  },
  {
   "cell_type": "code",
   "execution_count": 8,
   "id": "c9555fdf",
   "metadata": {},
   "outputs": [
    {
     "name": "stdout",
     "output_type": "stream",
     "text": [
      "['1. Long wait', '2. No follow-ups', '3. Unavailable', '4. Poor service', '5. Other']\n"
     ]
    }
   ],
   "source": [
    "complains = {'1. Long wait': 1 , '2. No follow-ups': 2, '3. Unavailable': 3 , '4. Poor service':4, '5. Other': 5 }\n",
    "print(list(complains))"
   ]
  },
  {
   "cell_type": "code",
   "execution_count": 9,
   "id": "eb9d66a7",
   "metadata": {},
   "outputs": [
    {
     "name": "stdout",
     "output_type": "stream",
     "text": [
      "Please pick your complain : 5\n",
      "Please print your complain : slow service\n",
      "complain submitted, thank you \n"
     ]
    }
   ],
   "source": [
    "while True:\n",
    "    n = int(input(\"Please pick your complain : \"))\n",
    "    if n == 5:\n",
    "        complain = str(input(\"Please print your complain : \"))\n",
    "        if not complain.isdigit():\n",
    "            \n",
    "            print(\"complain submitted, thank you \")\n",
    "        else:\n",
    "            print(\"invalid complain, try again later\")\n",
    "        break\n",
    "        \n",
    "    elif n == 1 or n==2 or n==3 or n==4:\n",
    "        print(\"complain submitted, thank you \")\n",
    "        break\n",
    "    else:\n",
    "        \n",
    "        print(\"complain invalid, try again later \")\n",
    "        break"
   ]
  },
  {
   "cell_type": "code",
   "execution_count": 17,
   "id": "c1c9d2f9",
   "metadata": {},
   "outputs": [
    {
     "name": "stdout",
     "output_type": "stream",
     "text": [
      "Enter your language:Spanish\n",
      "enter language to convert from: English\n",
      "{\"error\":{\"code\":400,\"message\":\"Invalid Value\",\"errors\":[{\"message\":\"Invalid Value\",\"domain\":\"global\",\"reason\":\"invalid\"}]}}\n"
     ]
    }
   ],
   "source": [
    "   \n",
    "    language_entered = input(\"Enter your language:\")\n",
    "    EnteredLang = input(\"enter language to convert from: \")\n",
    "    \n",
    "    url = \"https://google-translate1.p.rapidapi.com/language/translate/v2\"\n",
    "\n",
    "    payload = \"q=select(selectCom)&target=languageCom&source=src\"\n",
    "    headers = {\n",
    "    'content-type': \"application/x-www-form-urlencoded\",\n",
    "    'accept-encoding': \"application/gzip\",\n",
    "    'x-rapidapi-key': \"9ebc9e11bcmsh74dfdeaa35afdacp16d31ajsn4974d9ffee15\",\n",
    "    'x-rapidapi-host': \"google-translate1.p.rapidapi.com\"\n",
    "    }\n",
    "\n",
    "    response = requests.request(\"POST\", url, data=payload, headers=headers)\n",
    "   \n",
    "    print(response.text)\n"
   ]
  },
  {
   "cell_type": "code",
   "execution_count": 18,
   "id": "6df35a5f",
   "metadata": {},
   "outputs": [
    {
     "name": "stdout",
     "output_type": "stream",
     "text": [
      "{'error': {'code': 400, 'message': 'Invalid Value', 'errors': [{'message': 'Invalid Value', 'domain': 'global', 'reason': 'invalid'}]}}\n"
     ]
    }
   ],
   "source": [
    "import json\n",
    "data = json.loads(response.text)\n",
    "print(data)"
   ]
  },
  {
   "cell_type": "code",
   "execution_count": null,
   "id": "4c7a6298",
   "metadata": {},
   "outputs": [],
   "source": []
  }
 ],
 "metadata": {
  "kernelspec": {
   "display_name": "Python 3",
   "language": "python",
   "name": "python3"
  },
  "language_info": {
   "codemirror_mode": {
    "name": "ipython",
    "version": 3
   },
   "file_extension": ".py",
   "mimetype": "text/x-python",
   "name": "python",
   "nbconvert_exporter": "python",
   "pygments_lexer": "ipython3",
   "version": "3.8.8"
  }
 },
 "nbformat": 4,
 "nbformat_minor": 5
}
