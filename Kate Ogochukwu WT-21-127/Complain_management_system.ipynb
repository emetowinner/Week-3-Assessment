{
 "cells": [
  {
   "cell_type": "markdown",
   "metadata": {},
   "source": [
    "# PROJECT: Complain Management System\n",
    "\n",
    "### User Case Story (Customer)\n",
    "1. The system should welcome me as a user\n",
    "2. The system should ask me to submit complain\n",
    "3. The system should tell me when my when my complain is submitted\n",
    "\n",
    "### User Case Story (Team)\n",
    "1. The system should list all the complain\n",
    "2. The system should ask me to pick a complain\n",
    "4. The system should be able to detect the language used in a complain text\n",
    "5. The system should be able to translate from one language to the other base on specification\n",
    "\n",
    "'''"
   ]
  },
  {
   "cell_type": "code",
   "execution_count": 29,
   "metadata": {},
   "outputs": [],
   "source": [
    "import json\n",
    "import requests"
   ]
  },
  {
   "cell_type": "code",
   "execution_count": 2,
   "metadata": {},
   "outputs": [],
   "source": [
    "complains = {}"
   ]
  },
  {
   "cell_type": "code",
   "execution_count": 53,
   "metadata": {},
   "outputs": [],
   "source": [
    "languages = {'en': 'english', 'af': 'afrikaans', 'sq': 'albanian', 'am': 'amharic', 'ar': 'arabic',\n",
    "             'hy': 'armenian', 'az': 'azerbaijani', 'eu': 'basque', 'be': 'belarusian', 'bn': 'bengali',\n",
    "             'bs': 'bosnian', 'bg': 'bulgarian', 'ca': 'catalan', 'ceb': 'cebuano', 'ny': 'chichewa',\n",
    "             'zh-cn': 'chinese (simplified)', 'zh-tw': 'chinese (traditional)', 'co': 'corsican',\n",
    "             'hr': 'croatian', 'cs': 'czech', 'da': 'danish', 'nl': 'dutch', 'eo': 'esperanto',\n",
    "             'et': 'estonian', 'tl': 'filipino', 'fi': 'finnish', 'fr': 'french', 'fy': 'frisian', \n",
    "             'gl': 'galician', 'ka': 'georgian', 'de': 'german', 'el': 'greek', 'gu': 'gujarati', \n",
    "             'ht': 'haitian creole', 'ha': 'hausa', 'haw': 'hawaiian', 'iw': 'hebrew', 'hi': 'hindi', \n",
    "             'hmn': 'hmong', 'hu': 'hungarian', 'is': 'icelandic', 'ig': 'igbo', 'id': 'indonesian', \n",
    "             'ga': 'irish', 'it': 'italian', 'ja': 'japanese', 'jw': 'javanese', 'kn': 'kannada', \n",
    "             'kk': 'kazakh', 'km': 'khmer', 'ko': 'korean', 'ku': 'kurdish (kurmanji)', 'ky': 'kyrgyz', \n",
    "             'lo': 'lao', 'la': 'latin', 'lv': 'latvian', 'lt': 'lithuanian', 'lb': 'luxembourgish', \n",
    "             'mk': 'macedonian', 'mg': 'malagasy', 'ms': 'malay', 'ml': 'malayalam', 'mt': 'maltese', \n",
    "             'mi': 'maori', 'mr': 'marathi', 'mn': 'mongolian', 'my': 'myanmar (burmese)', 'ne': 'nepali', \n",
    "             'no': 'norwegian', 'ps': 'pashto', 'fa': 'persian', 'pl': 'polish', 'pt': 'portuguese', \n",
    "             'pa': 'punjabi', 'ro': 'romanian', 'ru': 'russian', 'sm': 'samoan', 'gd': 'scots gaelic', \n",
    "             'sr': 'serbian', 'st': 'sesotho', 'sn': 'shona', 'sd': 'sindhi', 'si': 'sinhala', 'sk': 'slovak', \n",
    "             'sl': 'slovenian', 'so': 'somali', 'es': 'spanish', 'su': 'sundanese', 'sw': 'swahili', \n",
    "             'sv': 'swedish', 'tg': 'tajik', 'ta': 'tamil', 'te': 'telugu', 'th': 'thai', 'tr': 'turkish', \n",
    "             'uk': 'ukrainian', 'ur': 'urdu', 'uz': 'uzbek', 'vi': 'vietnamese', 'cy': 'welsh', 'xh': 'xhosa', \n",
    "             'yi': 'yiddish', 'yo': 'yoruba', 'zu': 'zulu', 'fil': 'Filipino', 'he': 'Hebrew'}"
   ]
  },
  {
   "cell_type": "code",
   "execution_count": 69,
   "metadata": {},
   "outputs": [],
   "source": [
    "def customer():\n",
    "    checker = 1\n",
    "    while checker:\n",
    "        cust_id = len(complains.values())+1\n",
    "        if complains:\n",
    "            name = input(\"Dear customer, enter your name: \")\n",
    "            location = input(\"May I know your location: \")\n",
    "            print(f\"Hello {name} from {location}, Welcome to K & O, proceed to make your complains\")\n",
    "            sub = int(input(f'{name}, do you want to submit  a complain; Enter 1 to sumbit, 0 to quit: '))\n",
    "            if sub == 1:\n",
    "                new_complain = input('Enter your complain: ')\n",
    "                print(\"Complain received!, you will get a feedback soon\")\n",
    "\n",
    "                if name in complains.values() or new_complain in complains.values():\n",
    "                        print('You have submitted a complain before, you will get a feedback soon')\n",
    "                else:    \n",
    "                    complains[cust_id] = {'ID': cust_id, 'Name':name, 'Issue':new_complain}  \n",
    "                    print('your complain has been received. You will get a feedback shortly')\n",
    "            elif sub == 0:\n",
    "                print('Thanks for choosing us!')\n",
    "                checker = 0\n",
    "                break\n",
    "            else:\n",
    "                print(\"Try again!\")\n",
    "        else:\n",
    "            name = input(\"Dear Customer, enter your name: \")\n",
    "            location = input(\"May I know your location: \")\n",
    "            print(f\"Hello {name} from {location}, Welcome to K & O, proceed to make your complains\")\n",
    "            new_complain = input('Enter your complain: ')\n",
    "            complains[cust_id] = {'ID': cust_id, 'Name':name, 'Issue':new_complain}  \n",
    "            print('your complain has been received. You will get a feedback shortly')\n"
   ]
  },
  {
   "cell_type": "code",
   "execution_count": 70,
   "metadata": {},
   "outputs": [
    {
     "name": "stdout",
     "output_type": "stream",
     "text": [
      "Dear customer, enter your name: Kyla N\n",
      "May I know your location: Abuja\n",
      "Hello Kyla N from Abuja, Welcome to K & O, proceed to make your complains\n",
      "Kyla N, do you want to submit  a complain; Enter 1 to sumbit, 0 to quit: 1\n",
      "Enter your complain: Two pin charger instead of three\n",
      "Complain received!, you will get a feedback soon\n",
      "your complain has been received. You will get a feedback shortly\n",
      "Dear customer, enter your name: Hamdiya Adams\n",
      "May I know your location: Ghana\n",
      "Hello Hamdiya Adams from Ghana, Welcome to K & O, proceed to make your complains\n",
      "Hamdiya Adams, do you want to submit  a complain; Enter 1 to sumbit, 0 to quit: 1\n",
      "Enter your complain: Battery percentage low\n",
      "Complain received!, you will get a feedback soon\n",
      "your complain has been received. You will get a feedback shortly\n",
      "Dear customer, enter your name: Ibrahim S\n",
      "May I know your location: Kaduna\n",
      "Hello Ibrahim S from Kaduna, Welcome to K & O, proceed to make your complains\n",
      "Ibrahim S, do you want to submit  a complain; Enter 1 to sumbit, 0 to quit: 1\n",
      "Enter your complain: Earpiece not functional\n",
      "Complain received!, you will get a feedback soon\n",
      "your complain has been received. You will get a feedback shortly\n",
      "Dear customer, enter your name: Donta\n",
      "May I know your location: India\n",
      "Hello Donta from India, Welcome to K & O, proceed to make your complains\n",
      "Donta, do you want to submit  a complain; Enter 1 to sumbit, 0 to quit: 0\n",
      "Thanks for choosing us!\n"
     ]
    }
   ],
   "source": [
    "customer()"
   ]
  },
  {
   "cell_type": "code",
   "execution_count": 71,
   "metadata": {},
   "outputs": [
    {
     "name": "stdout",
     "output_type": "stream",
     "text": [
      "{1: {'ID': 1, 'Name': 'Kyla N', 'Issue': 'Two pin charger instead of three'}, 2: {'ID': 2, 'Name': 'Kyla N', 'Issue': 'Two pin charger instead of three'}, 3: {'ID': 3, 'Name': 'Precious Ham', 'Issue': 'Earpiece not functional'}, 4: {'ID': 4, 'Name': 'Winner E', 'Issue': 'Battery percentage low'}, 5: {'ID': 5, 'Name': 'Kyla N', 'Issue': 'Two pin charger instead of three'}, 6: {'ID': 6, 'Name': 'Winner Ham', 'Issue': 'Earpiece not functional'}, 7: {'ID': 7, 'Name': 'Precious B', 'Issue': 'Battery percentage low'}, 8: {'ID': 8, 'Name': 'Kyla N', 'Issue': 'Two pin charger instead of three'}, 9: {'ID': 9, 'Name': 'Hamdiya Adams', 'Issue': 'Battery percentage low'}, 10: {'ID': 10, 'Name': 'Ibrahim S', 'Issue': 'Earpiece not functional'}}\n"
     ]
    }
   ],
   "source": [
    "print(complains)"
   ]
  },
  {
   "cell_type": "code",
   "execution_count": 16,
   "metadata": {},
   "outputs": [],
   "source": [
    "def detect_lang(data):\n",
    "\n",
    "    url = \"https://google-translate1.p.rapidapi.com/language/translate/v2/detect\"\n",
    "\n",
    "    payload = f\"q={data}\"\n",
    "    headers = {\n",
    "        'content-type': \"application/x-www-form-urlencoded\",\n",
    "        'accept-encoding': \"application/gzip\",\n",
    "        'x-rapidapi-key': \"8a0acd6838msh71c872c49d7c169p12a8b3jsn1a0f03d938f5\",\n",
    "        'x-rapidapi-host': \"google-translate1.p.rapidapi.com\"\n",
    "        }\n",
    "\n",
    "    response = requests.request(\"POST\", url, data=payload, headers=headers)\n",
    "\n",
    "    rsp = json.loads(response.text)\n",
    "    return rsp"
   ]
  },
  {
   "cell_type": "code",
   "execution_count": 36,
   "metadata": {},
   "outputs": [],
   "source": [
    "def translate_lang(data, choice, lang):\n",
    "    url = \"https://google-translate1.p.rapidapi.com/language/translate/v2\"\n",
    "\n",
    "    payload = (f\"q={data}&target={choice}&source={lang}\")\n",
    "    headers = {\n",
    "        'content-type': \"application/x-www-form-urlencoded\",\n",
    "        'accept-encoding': \"application/gzip\",\n",
    "        'x-rapidapi-key': \"8a0acd6838msh71c872c49d7c169p12a8b3jsn1a0f03d938f5\",\n",
    "        'x-rapidapi-host': \"google-translate1.p.rapidapi.com\"\n",
    "        }\n",
    "\n",
    "    response = requests.request(\"POST\", url, data=payload, headers=headers)\n",
    "    result = json.loads(response.text)\n",
    "    return result"
   ]
  },
  {
   "cell_type": "code",
   "execution_count": 64,
   "metadata": {},
   "outputs": [],
   "source": [
    "def team_member():\n",
    "    team = input(\"Welcome team, enter your name: \")\n",
    "    print(\"These are the complains:{}\".format(complains))\n",
    "    num = int(input(f\"{team}, Enter the ID of the complain you want to detect: \"))\n",
    "    for records in complains.values():\n",
    "        if num == records['ID']:\n",
    "            print(records)\n",
    "            data = records['Issue']\n",
    "            detect = detect_lang(data)\n",
    "            lang = detect['data']['detections'][0][0]['language']\n",
    "            for key, value in languages.items():\n",
    "                if lang == key:\n",
    "                    language = value\n",
    "                    print(f\"The language used is: {language}\")\n",
    "                    team = input(\"Do wish to translate the language? Y or N: \")\n",
    "                    if team == 'Y':\n",
    "                        print(\"Choose your preferred language\")\n",
    "                        \n",
    "                        print([lang for lang in languages.values()])\n",
    "                        lang_choice = input(\"Enter a language: \")\n",
    "                        for key, value in languages.items():\n",
    "                            if lang_choice in languages.values():\n",
    "                                choice == key\n",
    "                                print(\"Here is your translation\")\n",
    "                                new_language = translate_lang(data, choice, lang)\n",
    "                                print(new_language[\"data\"][\"translations\"][0]['translatedText'])\n",
    "                                print(\"Thank you for using our channel\")\n",
    "                                break\n",
    "                            else:\n",
    "                                print(\"Try again. Invalid language entry!\")\n",
    "                                break\n",
    "                    elif team == 'N':\n",
    "                        print(\"Thank you!!!\")\n",
    "                        break\n",
    "        elif num not in complains.values():\n",
    "            print(\"Try again\")\n",
    "            break "
   ]
  },
  {
   "cell_type": "code",
   "execution_count": 65,
   "metadata": {},
   "outputs": [
    {
     "name": "stdout",
     "output_type": "stream",
     "text": [
      "Welcome team, enter your name: John COO\n",
      "These are the complains:{1: {'ID': 1, 'Name': 'Kyla N', 'Issue': 'Two pin charger instead of three'}}\n",
      "John COO, Enter the ID of the complain you want to detect: 1\n",
      "{'ID': 1, 'Name': 'Kyla N', 'Issue': 'Two pin charger instead of three'}\n",
      "The language used is: english\n",
      "Do wish to translate the language? Y or N: Y\n",
      "Choose your preferred language\n",
      "['english', 'afrikaans', 'albanian', 'amharic', 'arabic', 'armenian', 'azerbaijani', 'basque', 'belarusian', 'bengali', 'bosnian', 'bulgarian', 'catalan', 'cebuano', 'chichewa', 'chinese (simplified)', 'chinese (traditional)', 'corsican', 'croatian', 'czech', 'danish', 'dutch', 'esperanto', 'estonian', 'filipino', 'finnish', 'french', 'frisian', 'galician', 'georgian', 'german', 'greek', 'gujarati', 'haitian creole', 'hausa', 'hawaiian', 'hebrew', 'hindi', 'hmong', 'hungarian', 'icelandic', 'igbo', 'indonesian', 'irish', 'italian', 'japanese', 'javanese', 'kannada', 'kazakh', 'khmer', 'korean', 'kurdish (kurmanji)', 'kyrgyz', 'lao', 'latin', 'latvian', 'lithuanian', 'luxembourgish', 'macedonian', 'malagasy', 'malay', 'malayalam', 'maltese', 'maori', 'marathi', 'mongolian', 'myanmar (burmese)', 'nepali', 'norwegian', 'pashto', 'persian', 'polish', 'portuguese', 'punjabi', 'romanian', 'russian', 'samoan', 'scots gaelic', 'serbian', 'sesotho', 'shona', 'sindhi', 'sinhala', 'slovak', 'slovenian', 'somali', 'spanish', 'sundanese', 'swahili', 'swedish', 'tajik', 'tamil', 'telugu', 'thai', 'turkish', 'ukrainian', 'urdu', 'uzbek', 'vietnamese', 'welsh', 'xhosa', 'yiddish', 'yoruba', 'zulu', 'Filipino', 'Hebrew']\n",
      "Enter a language: yoruba\n",
      "Here is your translation\n",
      "Ṣaja pin pin meji dipo mẹta\n",
      "Thank you for using our channel\n"
     ]
    }
   ],
   "source": [
    "team_member()"
   ]
  },
  {
   "cell_type": "code",
   "execution_count": null,
   "metadata": {},
   "outputs": [],
   "source": []
  },
  {
   "cell_type": "code",
   "execution_count": null,
   "metadata": {},
   "outputs": [],
   "source": []
  }
 ],
 "metadata": {
  "kernelspec": {
   "display_name": "Python 3",
   "language": "python",
   "name": "python3"
  },
  "language_info": {
   "codemirror_mode": {
    "name": "ipython",
    "version": 3
   },
   "file_extension": ".py",
   "mimetype": "text/x-python",
   "name": "python",
   "nbconvert_exporter": "python",
   "pygments_lexer": "ipython3",
   "version": "3.8.5"
  }
 },
 "nbformat": 4,
 "nbformat_minor": 4
}
