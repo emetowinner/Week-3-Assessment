{
 "cells": [
  {
   "cell_type": "code",
   "execution_count": 1,
   "id": "75b6c28a",
   "metadata": {},
   "outputs": [
    {
     "name": "stdout",
     "output_type": "stream",
     "text": [
      "Hello, Welcome to SkyWay Group Limited\n",
      "Please Enter your NameMaureen\n",
      "welcome Maureen\n",
      "Kindly enter your complainLeaking Roof and chipping Paint\n",
      "Relax! Your complain has been submitted\n",
      "{\"data\":{\"translations\":[{\"translatedText\":\"complains!\"}]}}\n",
      "{\"data\":{\"detections\":[[{\"confidence\":1,\"language\":\"en\",\"isReliable\":false}]]}}\n"
     ]
    }
   ],
   "source": [
    "import json\n",
    "import requests\n",
    "\n",
    "welcome = \"Welcome to SkyWay Group Limited\"\n",
    "complains = []\n",
    "print(\"Hello,\",welcome)\n",
    "\n",
    "user= input (\"Please Enter your Name\")\n",
    "print(\"welcome\",user)\n",
    "complain = input(\"Kindly enter your complain\")\n",
    "print(\"Relax! Your complain has been submitted\")\n",
    " \n",
    "    \n",
    "    \n",
    "import requests\n",
    "\n",
    "url = \"https://google-translate1.p.rapidapi.com/language/translate/v2/languages\"\n",
    "\n",
    "headers = {\n",
    "    'accept-encoding': \"application/gzip\",\n",
    "    'x-rapidapi-host': \"google-translate1.p.rapidapi.com\",\n",
    "    'x-rapidapi-key': \"3f578f63b6mshd6bc09dce867bbcp1b33c5jsncf0c076ba845\"\n",
    "    }\n",
    "\n",
    "response = requests.request(\"GET\", url, headers=headers)\n",
    "\n",
    "\n",
    "import requests\n",
    "\n",
    "url = \"https://google-translate1.p.rapidapi.com/language/translate/v2\"\n",
    "\n",
    "payload = \"q=complains!&target=en&source=fr\"\n",
    "headers = {\n",
    "    'content-type': \"application/x-www-form-urlencoded\",\n",
    "    'accept-encoding': \"application/gzip\",\n",
    "    'x-rapidapi-host': \"google-translate1.p.rapidapi.com\",\n",
    "    'x-rapidapi-key': \"3f578f63b6mshd6bc09dce867bbcp1b33c5jsncf0c076ba845\"\n",
    "    }\n",
    "\n",
    "response = requests.request(\"POST\", url, data=payload, headers=headers)\n",
    "\n",
    "print(response.text)\n",
    "\n",
    "\n",
    "import requests\n",
    "\n",
    "url = \"https://google-translate1.p.rapidapi.com/language/translate/v2/detect\"\n",
    "\n",
    "payload = \"q=complains\"\n",
    "headers = {\n",
    "    'content-type': \"application/x-www-form-urlencoded\",\n",
    "    'accept-encoding': \"application/gzip\",\n",
    "    'x-rapidapi-host': \"google-translate1.p.rapidapi.com\",\n",
    "    'x-rapidapi-key': \"3f578f63b6mshd6bc09dce867bbcp1b33c5jsncf0c076ba845\"\n",
    "    }\n",
    "\n",
    "response = requests.request(\"POST\", url, data=payload, headers=headers)\n",
    "\n",
    "print(response.text)"
   ]
  },
  {
   "cell_type": "code",
   "execution_count": null,
   "id": "d5bedfd3",
   "metadata": {},
   "outputs": [],
   "source": []
  }
 ],
 "metadata": {
  "kernelspec": {
   "display_name": "Python 3",
   "language": "python",
   "name": "python3"
  },
  "language_info": {
   "codemirror_mode": {
    "name": "ipython",
    "version": 3
   },
   "file_extension": ".py",
   "mimetype": "text/x-python",
   "name": "python",
   "nbconvert_exporter": "python",
   "pygments_lexer": "ipython3",
   "version": "3.8.8"
  }
 },
 "nbformat": 4,
 "nbformat_minor": 5
}
