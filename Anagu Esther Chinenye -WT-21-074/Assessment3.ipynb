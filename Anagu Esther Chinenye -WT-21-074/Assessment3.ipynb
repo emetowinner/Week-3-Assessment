{
 "cells": [
  {
   "cell_type": "markdown",
   "id": "9d3cd93f",
   "metadata": {},
   "source": [
    "<h1><center> Assessmet 3 on Python and API. </center></h1>"
   ]
  },
  {
   "cell_type": "markdown",
   "id": "049584fb",
   "metadata": {},
   "source": [
    "# A System for Complaints' Collection, Detection and Translation."
   ]
  },
  {
   "cell_type": "markdown",
   "id": "b22d84a7",
   "metadata": {},
   "source": [
    "This assessment is on Python and API. We are building a system that can help \n",
    "detect and translate customers' complaints from French to English and to any other language specified by the team.\n",
    "\n",
    "User Case Story (Customer)\n",
    "1. The system should welcome me as a user\n",
    "2. The system should ask me to submit complain\n",
    "3. The system should tell me when my when my complain is submitted\n",
    "\n",
    "User Case Story (Team)\n",
    "1. The system should list all the complain\n",
    "2. The system should ask me to pick a complain\n",
    "4. The system should be able to detect the language used in a complain text\n",
    "5. The system should be able to translate from one language to the other base on specification"
   ]
  },
  {
   "cell_type": "markdown",
   "id": "1fb3c77e",
   "metadata": {},
   "source": [
    "# The Customers' System"
   ]
  },
  {
   "cell_type": "code",
   "execution_count": 7,
   "id": "97f10f86",
   "metadata": {},
   "outputs": [
    {
     "name": "stdout",
     "output_type": "stream",
     "text": [
      "Welcome, this is Anaest Clothing Store! This is our Customer Service Channel.\n",
      "We would like to hear from you, dear customer!\n",
      "Feel free to send us a message.\n",
      "\n",
      "\n",
      "Please, enter your registered username: Louise\n",
      "Please, enter your registered email: Bastienloiuse@gmail.com\n",
      "**************************************************\n",
      "Dear Louise, what is the subject of your complaint? Kindly select an option:\n",
      " Online experience.\n",
      " Credit card procedures.\n",
      " Returns and refund policies.\n",
      " Product quality.\n",
      " Others.\n",
      " Online experience\n",
      "Kindly submit your complaints with your order number, if applicable: Le site Web n'est pas convivial. Je ne pouvais pas le naviguer facilement.\n",
      "**************************************************\n",
      "Would you like to make a new complaint?\n",
      "If yes, select 1; if no, select 2: 1\n",
      "\n",
      "\n",
      "Please, enter your registered username: Antoinette\n",
      "Please, enter your registered email: AimeeAntoinette@gmail.com\n",
      "**************************************************\n",
      "Dear Antoinette, what is the subject of your complaint? Kindly select an option:\n",
      " Online experience.\n",
      " Credit card procedures.\n",
      " Returns and refund policies.\n",
      " Product quality.\n",
      " Others.\n",
      " Product quality\n",
      "Kindly submit your complaints with your order number, if applicable: La robe que j'ai commandée n'est pas de bonne qualité.C'est trop léger pour moi, contrairement à celui que j'ai vu sur le site Web.\n",
      "**************************************************\n",
      "Would you like to make a new complaint?\n",
      "If yes, select 1; if no, select 2: 2\n",
      "^^^^^^^^^^^^^^^^^^^^^^^^^^^^^^^^^^^^^^^^^^^^^^^^^^\n",
      "Thank you, your complaint has been registered!\n",
      "dict_values([{'Username': 'Louise', 'Email': 'Bastienloiuse@gmail.com', 'Complaint': \"Le site Web n'est pas convivial. Je ne pouvais pas le naviguer facilement.\"}, {'Username': 'Antoinette', 'Email': 'AimeeAntoinette@gmail.com', 'Complaint': \"La robe que j'ai commandée n'est pas de bonne qualité.C'est trop léger pour moi, contrairement à celui que j'ai vu sur le site Web.\"}])\n",
      "--------------------------------------------------\n",
      "Dear Esteemed customer, your complaint has been submitted successfully. A response will be sent to your mail within 24-48hrs.\n",
      "^^^^^^^^^^^^^^^^^^^^^^^^^^^^^^^^^^^^^^^^^^^^^^^^^^\n",
      "Thank you, your complaint has been registered!\n",
      "dict_values([{'Username': 'Louise', 'Email': 'Bastienloiuse@gmail.com', 'Complaint': \"Le site Web n'est pas convivial. Je ne pouvais pas le naviguer facilement.\"}, {'Username': 'Antoinette', 'Email': 'AimeeAntoinette@gmail.com', 'Complaint': \"La robe que j'ai commandée n'est pas de bonne qualité.C'est trop léger pour moi, contrairement à celui que j'ai vu sur le site Web.\"}])\n",
      "--------------------------------------------------\n",
      "Dear Esteemed customer, your complaint has been submitted successfully. A response will be sent to your mail within 24-48hrs.\n",
      "\n",
      "\n",
      "Please, enter your registered username: Bernadette\n",
      "Please, enter your registered email: Bernadette22@gmail.com\n",
      "**************************************************\n",
      "Dear Bernadette, what is the subject of your complaint? Kindly select an option:\n",
      " Online experience.\n",
      " Credit card procedures.\n",
      " Returns and refund policies.\n",
      " Product quality.\n",
      " Others.\n",
      " Credit card procedures\n",
      "Kindly submit your complaints with your order number, if applicable: J'ai eu un problème de paiement pour les robes de mon choix, le Web me retira.Que puis-je faire, s'il vous plaît?\n",
      "**************************************************\n",
      "Would you like to make a new complaint?\n",
      "If yes, select 1; if no, select 2: 2\n",
      "^^^^^^^^^^^^^^^^^^^^^^^^^^^^^^^^^^^^^^^^^^^^^^^^^^\n",
      "Thank you, your complaint has been registered!\n",
      "dict_values([{'Username': 'Louise', 'Email': 'Bastienloiuse@gmail.com', 'Complaint': \"Le site Web n'est pas convivial. Je ne pouvais pas le naviguer facilement.\"}, {'Username': 'Antoinette', 'Email': 'AimeeAntoinette@gmail.com', 'Complaint': \"La robe que j'ai commandée n'est pas de bonne qualité.C'est trop léger pour moi, contrairement à celui que j'ai vu sur le site Web.\"}, {'Username': 'Bernadette', 'Email': 'Bernadette22@gmail.com', 'Complaint': \"J'ai eu un problème de paiement pour les robes de mon choix, le Web me retira.Que puis-je faire, s'il vous plaît?\"}])\n",
      "--------------------------------------------------\n",
      "Dear Esteemed customer, your complaint has been submitted successfully. A response will be sent to your mail within 24-48hrs.\n"
     ]
    }
   ],
   "source": [
    "import time\n",
    "complaints_bank = {}\n",
    "\n",
    "def complaints():\n",
    "    while True:\n",
    "        print(\"\\n\")\n",
    "        username = input(\"Please, enter your registered username: \")\n",
    "        email = input(\"Please, enter your registered email: \")\n",
    "        print(\"*\" * 50)\n",
    "        Complaint_Subject = input(f\"Dear {username}, what is the subject of your complaint? Kindly select an option:\\n Online experience.\\n Credit card procedures.\\n Returns and refund policies.\\n Product quality.\\n Others.\\n \")\n",
    "        complaint = input(\"Kindly submit your complaints with your order number, if applicable: \")\n",
    "        complaints_bank [Complaint_Subject] = {\"Username\": username, \"Email\": email, \"Complaint\": complaint}\n",
    "        print(\"*\" * 50)\n",
    "        options = int(input(\"Would you like to make a new complaint?\\nIf yes, select 1; if no, select 2: \"))\n",
    "        if options == 1:\n",
    "            complaints()\n",
    "            logout()\n",
    "        elif options == 2:\n",
    "            logout()\n",
    "            break\n",
    "        else:\n",
    "            print(\"You have entered invalid details\")\n",
    "            \n",
    "\n",
    "def logout():\n",
    "    time.sleep(3)\n",
    "    print(\"^\"*50)\n",
    "    print(\"Thank you, your complaint has been registered!\")\n",
    "    print(complaints_bank.values())\n",
    "    time.sleep(5)\n",
    "    print(\"-\"*50)\n",
    "    print(\"Dear Esteemed customer, your complaint has been submitted successfully. A response will be sent to your mail within 24-48hrs.\")\n",
    "    time.sleep(3)\n",
    "\n",
    "    \n",
    "def main():\n",
    "    print(\"Welcome, this is Anaest Clothing Store! This is our Customer Service Channel.\")\n",
    "    print(\"We would like to hear from you, dear customer!\\nFeel free to send us a message.\")\n",
    "    complaints()\n",
    "main()"
   ]
  },
  {
   "cell_type": "markdown",
   "id": "0490cc21",
   "metadata": {},
   "source": [
    "# The Detection and Translation Functions"
   ]
  },
  {
   "cell_type": "markdown",
   "id": "005205c2",
   "metadata": {},
   "source": [
    "To help translate the customers' complaints language, we used Google API translator."
   ]
  },
  {
   "cell_type": "code",
   "execution_count": 8,
   "id": "6a0282b8",
   "metadata": {},
   "outputs": [],
   "source": [
    "import requests\n",
    "def detection(complaints):\n",
    "    url_for_detection = \"https://google-translate1.p.rapidapi.com/language/translate/v2/detect\"\n",
    "\n",
    "    payload = f\"q={complaint}\"\n",
    "    headers = {\n",
    "    'content-type': \"application/x-www-form-urlencoded\",\n",
    "    'accept-encoding': \"application/gzip\",\n",
    "    'x-rapidapi-key': \"6464df7f3dmsh79109d96d292f30p1d2e4cjsn32767b241ca1\",\n",
    "    'x-rapidapi-host': \"google-translate1.p.rapidapi.com\"\n",
    "    }\n",
    "\n",
    "    response = requests.request(\"POST\", url_for_detection, data=payload, headers=headers)\n",
    "    return response.text\n",
    "\n",
    "def translation(complaints, target_lang, source_lang):\n",
    "    url_for_translation = \"https://google-translate1.p.rapidapi.com/language/translate/v2\"\n",
    "\n",
    "    payload = f\"q={complaints}&target={target_lang}&source={source_lang}\"\n",
    "    headers = {\n",
    "    'content-type': \"application/x-www-form-urlencoded\",\n",
    "    'accept-encoding': \"application/gzip\",\n",
    "    'x-rapidapi-key': \"6464df7f3dmsh79109d96d292f30p1d2e4cjsn32767b241ca1\",\n",
    "    'x-rapidapi-host': \"google-translate1.p.rapidapi.com\"\n",
    "    }\n",
    "\n",
    "    source_lang = \"fr\"\n",
    "    \n",
    "    response = requests.request(\"POST\", url_for_translation, data=payload, headers=headers)\n",
    "    return response.text"
   ]
  },
  {
   "cell_type": "code",
   "execution_count": 9,
   "id": "8c55ffe6",
   "metadata": {},
   "outputs": [],
   "source": [
    " #I imported \"googletrans\" and printed \"googletrans.LANGUAGES.\" Since I thought you might not have it, I copied the output as written below:\n",
    "languages = {'af': 'afrikaans', 'sq': 'albanian', 'am': 'amharic', 'ar': 'arabic', 'hy': 'armenian', 'az': 'azerbaijani', 'eu': 'basque', 'be': 'belarusian', 'bn': 'bengali', 'bs': 'bosnian', 'bg': 'bulgarian', 'ca': 'catalan', 'ceb': 'cebuano', 'ny': 'chichewa', 'zh-cn': 'chinese (simplified)', 'zh-tw': 'chinese (traditional)', 'co': 'corsican', 'hr': 'croatian', 'cs': 'czech', 'da': 'danish', 'nl': 'dutch', 'en': 'english', 'eo': 'esperanto', 'et': 'estonian', 'tl': 'filipino', 'fi': 'finnish', 'fr': 'french', 'fy': 'frisian', 'gl': 'galician', 'ka': 'georgian', 'de': 'german', 'el': 'greek', 'gu': 'gujarati', 'ht': 'haitian creole', 'ha': 'hausa', 'haw': 'hawaiian', 'iw': 'hebrew', 'he': 'hebrew', 'hi': 'hindi', 'hmn': 'hmong', 'hu': 'hungarian', 'is': 'icelandic', 'ig': 'igbo', 'id': 'indonesian', 'ga': 'irish', 'it': 'italian', 'ja': 'japanese', 'jw': 'javanese', 'kn': 'kannada', 'kk': 'kazakh', 'km': 'khmer', 'ko': 'korean', 'ku': 'kurdish (kurmanji)', 'ky': 'kyrgyz', 'lo': 'lao', 'la': 'latin', 'lv': 'latvian', 'lt': 'lithuanian', 'lb': 'luxembourgish', 'mk': 'macedonian', 'mg': 'malagasy', 'ms': 'malay', 'ml': 'malayalam', 'mt': 'maltese', 'mi': 'maori', 'mr': 'marathi', 'mn': 'mongolian', 'my': 'myanmar (burmese)', 'ne': 'nepali', 'no': 'norwegian', 'or': 'odia', 'ps': 'pashto', 'fa': 'persian', 'pl': 'polish', 'pt': 'portuguese', 'pa': 'punjabi', 'ro': 'romanian', 'ru': 'russian', 'sm': 'samoan', 'gd': 'scots gaelic', 'sr': 'serbian', 'st': 'sesotho', 'sn': 'shona', 'sd': 'sindhi', 'si': 'sinhala', 'sk': 'slovak', 'sl': 'slovenian', 'so': 'somali', 'es': 'spanish', 'su': 'sundanese', 'sw': 'swahili', 'sv': 'swedish', 'tg': 'tajik', 'ta': 'tamil', 'te': 'telugu', 'th': 'thai', 'tr': 'turkish', 'uk': 'ukrainian', 'ur': 'urdu', 'ug': 'uyghur', 'uz': 'uzbek', 'vi': 'vietnamese', 'cy': 'welsh', 'xh': 'xhosa', 'yi': 'yiddish', 'yo': 'yoruba', 'zu': 'zulu'}"
   ]
  },
  {
   "cell_type": "markdown",
   "id": "e0e2942f",
   "metadata": {},
   "source": [
    "# JSON "
   ]
  },
  {
   "cell_type": "code",
   "execution_count": 10,
   "id": "30d4768e",
   "metadata": {},
   "outputs": [
    {
     "name": "stdout",
     "output_type": "stream",
     "text": [
      "Online experience : {'Username': 'Louise', 'Email': 'Bastienloiuse@gmail.com', 'Complaint': \"Le site Web n'est pas convivial. Je ne pouvais pas le naviguer facilement.\"} \n",
      "\n",
      "Product quality : {'Username': 'Antoinette', 'Email': 'AimeeAntoinette@gmail.com', 'Complaint': \"La robe que j'ai commandée n'est pas de bonne qualité.C'est trop léger pour moi, contrairement à celui que j'ai vu sur le site Web.\"} \n",
      "\n",
      "Credit card procedures : {'Username': 'Bernadette', 'Email': 'Bernadette22@gmail.com', 'Complaint': \"J'ai eu un problème de paiement pour les robes de mon choix, le Web me retira.Que puis-je faire, s'il vous plaît?\"} \n",
      "\n"
     ]
    }
   ],
   "source": [
    "'''This is for encoding Python object into JSON format. We want to write our customer_complaints into a JSON file.'''\n",
    "\n",
    "import json\n",
    "with open(\"Customers_complaints.json\", \"w\") as write_file:\n",
    "        json.dump(complaints_bank, write_file, indent=4, separators = (',', ':'))\n",
    "\n",
    "'''This is for Python JSON Parsing. It is done by using the json.load() method. \n",
    "We're importing json to load our response to a dictioary. '''\n",
    "\n",
    "with open(\"Customers_complaints.json\", \"r\") as read_file:\n",
    "        complaints_list = json.load(read_file)\n",
    "        for key, value in complaints_list.items():\n",
    "            print(key, \":\", value, \"\\n\")"
   ]
  },
  {
   "cell_type": "markdown",
   "id": "ea9d6ead",
   "metadata": {},
   "source": [
    "# The Team's System"
   ]
  },
  {
   "cell_type": "code",
   "execution_count": null,
   "id": "e49a773a",
   "metadata": {},
   "outputs": [
    {
     "name": "stdout",
     "output_type": "stream",
     "text": [
      "\n",
      "\n",
      "Dear team, below is the list of the complaints made by the customers and their details.\n",
      "==================================================\n",
      "Online experience : {'Username': 'Louise', 'Email': 'Bastienloiuse@gmail.com', 'Complaint': \"Le site Web n'est pas convivial. Je ne pouvais pas le naviguer facilement.\"} \n",
      "\n",
      "Product quality : {'Username': 'Antoinette', 'Email': 'AimeeAntoinette@gmail.com', 'Complaint': \"La robe que j'ai commandée n'est pas de bonne qualité.C'est trop léger pour moi, contrairement à celui que j'ai vu sur le site Web.\"} \n",
      "\n",
      "Credit card procedures : {'Username': 'Bernadette', 'Email': 'Bernadette22@gmail.com', 'Complaint': \"J'ai eu un problème de paiement pour les robes de mon choix, le Web me retira.Que puis-je faire, s'il vous plaît?\"} \n",
      "\n",
      "==================================================\n",
      "kindly select a complaint by entering the customer's complaints subject: Product quality\n",
      "You have selected:  La robe que j'ai commandée n'est pas de bonne qualité.C'est trop léger pour moi, contrairement à celui que j'ai vu sur le site Web.\n",
      "The language detected is:  fr\n",
      "**************************************************\n",
      "What language would you like the complaint to be translated to?\n",
      "{'af': 'afrikaans', 'sq': 'albanian', 'am': 'amharic', 'ar': 'arabic', 'hy': 'armenian', 'az': 'azerbaijani', 'eu': 'basque', 'be': 'belarusian', 'bn': 'bengali', 'bs': 'bosnian', 'bg': 'bulgarian', 'ca': 'catalan', 'ceb': 'cebuano', 'ny': 'chichewa', 'zh-cn': 'chinese (simplified)', 'zh-tw': 'chinese (traditional)', 'co': 'corsican', 'hr': 'croatian', 'cs': 'czech', 'da': 'danish', 'nl': 'dutch', 'en': 'english', 'eo': 'esperanto', 'et': 'estonian', 'tl': 'filipino', 'fi': 'finnish', 'fr': 'french', 'fy': 'frisian', 'gl': 'galician', 'ka': 'georgian', 'de': 'german', 'el': 'greek', 'gu': 'gujarati', 'ht': 'haitian creole', 'ha': 'hausa', 'haw': 'hawaiian', 'iw': 'hebrew', 'he': 'hebrew', 'hi': 'hindi', 'hmn': 'hmong', 'hu': 'hungarian', 'is': 'icelandic', 'ig': 'igbo', 'id': 'indonesian', 'ga': 'irish', 'it': 'italian', 'ja': 'japanese', 'jw': 'javanese', 'kn': 'kannada', 'kk': 'kazakh', 'km': 'khmer', 'ko': 'korean', 'ku': 'kurdish (kurmanji)', 'ky': 'kyrgyz', 'lo': 'lao', 'la': 'latin', 'lv': 'latvian', 'lt': 'lithuanian', 'lb': 'luxembourgish', 'mk': 'macedonian', 'mg': 'malagasy', 'ms': 'malay', 'ml': 'malayalam', 'mt': 'maltese', 'mi': 'maori', 'mr': 'marathi', 'mn': 'mongolian', 'my': 'myanmar (burmese)', 'ne': 'nepali', 'no': 'norwegian', 'or': 'odia', 'ps': 'pashto', 'fa': 'persian', 'pl': 'polish', 'pt': 'portuguese', 'pa': 'punjabi', 'ro': 'romanian', 'ru': 'russian', 'sm': 'samoan', 'gd': 'scots gaelic', 'sr': 'serbian', 'st': 'sesotho', 'sn': 'shona', 'sd': 'sindhi', 'si': 'sinhala', 'sk': 'slovak', 'sl': 'slovenian', 'so': 'somali', 'es': 'spanish', 'su': 'sundanese', 'sw': 'swahili', 'sv': 'swedish', 'tg': 'tajik', 'ta': 'tamil', 'te': 'telugu', 'th': 'thai', 'tr': 'turkish', 'uk': 'ukrainian', 'ur': 'urdu', 'ug': 'uyghur', 'uz': 'uzbek', 'vi': 'vietnamese', 'cy': 'welsh', 'xh': 'xhosa', 'yi': 'yiddish', 'yo': 'yoruba', 'zu': 'zulu'}\n",
      "Kindly select English or any language from above using their acronym: en\n",
      "^^^^^^^^^^^^^^^^^^^^^^^^^^^^^^^^^^^^^^^^^^^^^^^^^^\n",
      "The translated complaint is:  The dress I ordered is not of good quality. It is too light for me unlike the one I saw on the website.\n"
     ]
    }
   ],
   "source": [
    "print(\"\\n\")\n",
    "print(\"Dear team, below is the list of the complaints made by the customers and their details.\")\n",
    "print(\"=\" *50)\n",
    "time.sleep(3)\n",
    "\n",
    "with open(\"Customers_complaints.json\", \"r\") as read_file:\n",
    "        complaints_list = json.load(read_file)\n",
    "        for key, value in complaints_list.items():\n",
    "            print(key, \":\", value, \"\\n\")\n",
    "\n",
    "print(\"=\" *50)\n",
    "selected_complaints = input(\"kindly select a complaint by entering the customer's complaints subject: \")\n",
    "complaint = complaints_bank[selected_complaints][\"Complaint\"]\n",
    "if complaint == complaints_bank[selected_complaints][\"Complaint\"]:\n",
    "    print(\"You have selected: \", complaint)\n",
    "else:\n",
    "    print(\"Your input is incorrect!\")\n",
    "    \n",
    "#To translate the laguage to english or any other language.\n",
    "def translate():\n",
    "    while True:\n",
    "        time.sleep(3)\n",
    "        print(\"*\" *50)\n",
    "        print(\"What language would you like the complaint to be translated to?\")\n",
    "        time.sleep(2)\n",
    "        print(languages)\n",
    "        target_language = input(\"Kindly select English or any language from above using their acronym: \")\n",
    "        translated_language = json.loads(translation(complaint, target_language, detected))\n",
    "        print(\"^\" * 50)\n",
    "        print(\"The translated complaint is: \", translated_language['data']['translations'][0]['translatedText'])\n",
    "        option = int(input(\"What would you like to do again? 1. Run another translation\\n2. exit.: \"))\n",
    "        if option == 1:\n",
    "            translate()\n",
    "        elif option ==2:\n",
    "            print(\"Have a great day!\")\n",
    "            break\n",
    "\n",
    "#To detect the language used.\n",
    "detectable_text = \"q=\"+complaint\n",
    "detect = json.loads(detection(detectable_text))\n",
    "detected = detect['data']['detections'][0][0]['language']\n",
    "print(\"The language detected is: \", detected)\n",
    "print(translate())"
   ]
  },
  {
   "cell_type": "code",
   "execution_count": null,
   "id": "618359d9",
   "metadata": {},
   "outputs": [],
   "source": []
  }
 ],
 "metadata": {
  "kernelspec": {
   "display_name": "Python 3",
   "language": "python",
   "name": "python3"
  },
  "language_info": {
   "codemirror_mode": {
    "name": "ipython",
    "version": 3
   },
   "file_extension": ".py",
   "mimetype": "text/x-python",
   "name": "python",
   "nbconvert_exporter": "python",
   "pygments_lexer": "ipython3",
   "version": "3.8.8"
  }
 },
 "nbformat": 4,
 "nbformat_minor": 5
}
