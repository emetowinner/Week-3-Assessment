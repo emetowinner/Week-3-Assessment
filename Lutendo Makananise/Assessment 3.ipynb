{
 "cells": [
  {
   "cell_type": "code",
   "execution_count": 1,
   "metadata": {},
   "outputs": [],
   "source": [
    "import datetime\n",
    "import json\n",
    "import requests"
   ]
  },
  {
   "cell_type": "code",
   "execution_count": 2,
   "metadata": {},
   "outputs": [],
   "source": [
    "CustomerCom = {}\n",
    "time = datetime.datetime.now()\n",
    "selectCom = \"\"\n"
   ]
  },
  {
   "cell_type": "code",
   "execution_count": 3,
   "metadata": {},
   "outputs": [],
   "source": [
    "def Customer():\n",
    "    \n",
    "    if CustomerCom:\n",
    "        complain = input(\"Enter a complain: \")\n",
    "            \n",
    "        if complain in CustomerCom.values():\n",
    "            print(\"Complain already exist\")\n",
    "        else:\n",
    "            for record in CustomerCom.values():\n",
    "                if complain in CustomerCom.values():\n",
    "                    print(\"Complain already exist\")\n",
    "                else:\n",
    "                    CustomerCom[complain] = {\"Complain\":complain}\n",
    "                    print(\"+++++++++++++++++++\")\n",
    "                    print(\"Complain: \", CustomerCom)\n",
    "                    print(\"Was submitted on the \",time)\n",
    "                    print(\"+++++++++++++++++++\")\n",
    "                    break\n",
    "    else:\n",
    "        complain = input(\"Enter a complain: \")\n",
    "        CustomerCom[complain] = {\"Complain\":complain}\n",
    "        print(\"Complain: \", CustomerCom)\n",
    "        print(\"Was submitted on the \",time)\n",
    "         \n",
    "            \n",
    "                    "
   ]
  },
  {
   "cell_type": "code",
   "execution_count": 4,
   "metadata": {},
   "outputs": [],
   "source": [
    "def view():\n",
    "    for x in CustomerCom.values():\n",
    "        print(x)\n",
    "    "
   ]
  },
  {
   "cell_type": "code",
   "execution_count": 5,
   "metadata": {},
   "outputs": [],
   "source": [
    "def select(selectCom):\n",
    "    #selectCom =  CustomerCom.get(\"complain\")\n",
    "    #selectCom\n",
    "    pick = int(input(\"Enter a value or number of complain you want to translate\"))\n",
    "    selectCom = list(CustomerCom.values())[pick]\n",
    "    print(selectCom)\n",
    "    return selectCom\n",
    "  "
   ]
  },
  {
   "cell_type": "code",
   "execution_count": 6,
   "metadata": {},
   "outputs": [],
   "source": [
    "def language():\n",
    "    \n",
    "    languageCom = input(\"Enter the language to translate:\")\n",
    "    src = input(\"Enter the language to translate from\")\n",
    "    \n",
    "    url = \"https://google-translate1.p.rapidapi.com/language/translate/v2\"\n",
    "\n",
    "    payload = \"q=select(selectCom)&target=languageCom&source=src\"\n",
    "    headers = {\n",
    "    'content-type': \"application/x-www-form-urlencoded\",\n",
    "    'accept-encoding': \"application/gzip\",\n",
    "    'x-rapidapi-key': \"9ebc9e11bcmsh74dfdeaa35afdacp16d31ajsn4974d9ffee15\",\n",
    "    'x-rapidapi-host': \"google-translate1.p.rapidapi.com\"\n",
    "    }\n",
    "\n",
    "    response = requests.request(\"POST\", url, data=payload, headers=headers)\n",
    "\n",
    "    print(response.text)\n",
    "    #print(response.detect(languageCom))"
   ]
  },
  {
   "cell_type": "code",
   "execution_count": 7,
   "metadata": {},
   "outputs": [
    {
     "name": "stdout",
     "output_type": "stream",
     "text": [
      "Welcome to complain day\n",
      "Press 0 to enter a complain, 1 to view complains,select a complain and to translate a complain.Press 2 to quit: 2\n"
     ]
    }
   ],
   "source": [
    "def main():\n",
    "    runtime = 1\n",
    "    print(\"Welcome to complain day\")\n",
    "    while runtime:\n",
    "        start = int(input(\"Press 0 to enter a complain, 1 to view complains,select a complain and to translate a complain.Press 2 to quit: \"))\n",
    "        \n",
    "        if start == 0:\n",
    "            Customer()\n",
    "        elif start == 1:\n",
    "            view()\n",
    "            select(selectCom)\n",
    "            language()\n",
    "        elif start == 2:\n",
    "            break\n",
    "        else:\n",
    "            print('Invalid value, try again')\n",
    "main()\n"
   ]
  }
 ],
 "metadata": {
  "kernelspec": {
   "display_name": "Python 3",
   "language": "python",
   "name": "python3"
  },
  "language_info": {
   "codemirror_mode": {
    "name": "ipython",
    "version": 3
   },
   "file_extension": ".py",
   "mimetype": "text/x-python",
   "name": "python",
   "nbconvert_exporter": "python",
   "pygments_lexer": "ipython3",
   "version": "3.8.5"
  }
 },
 "nbformat": 4,
 "nbformat_minor": 4
}
